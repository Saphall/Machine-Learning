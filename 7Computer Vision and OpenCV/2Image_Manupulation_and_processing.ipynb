{
 "cells": [
  {
   "cell_type": "markdown",
   "metadata": {},
   "source": [
    "# Translations\n",
    "* Affine transform that simply shift the position of image."
   ]
  },
  {
   "cell_type": "code",
   "execution_count": 1,
   "metadata": {},
   "outputs": [],
   "source": [
    "import cv2\n",
    "import numpy as np\n",
    "\n",
    "image = cv2.imread('images/input.jpg')\n",
    "\n",
    "#store height and width of image\n",
    "height, width = image.shape[:2]\n",
    "\n",
    "quarter_height , quarter_width = height/4, width/4\n",
    "\n",
    "#      | 1 0 Tx |\n",
    "# T =  | 0 1 Ty |\n",
    "\n",
    "# T is our translation matrix\n",
    "T = np.float32([[1,0,quarter_width],[0,1,quarter_height]])\n",
    "\n",
    "#warpAffint to transform the image using matrix T\n",
    "img_translation = cv2.warpAffine(image,T,(width,height))\n",
    "\n",
    "cv2.imshow('Translation',img_translation)\n",
    "cv2.waitKey()\n",
    "cv2.destroyAllWindows()\n"
   ]
  },
  {
   "cell_type": "markdown",
   "metadata": {},
   "source": [
    "# Rotation\n"
   ]
  },
  {
   "cell_type": "code",
   "execution_count": 2,
   "metadata": {},
   "outputs": [],
   "source": [
    "import cv2\n",
    "import numpy as np\n",
    "\n",
    "image = cv2.imread('images/input.jpg')\n",
    "height , width = image.shape[:2]\n",
    "\n",
    "rotation_matrix = cv2.getRotationMatrix2D((width/2,height/2),90,1)\n",
    "\n",
    "rotated_image = cv2.warpAffine(image, rotation_matrix,(width,height))\n",
    "\n",
    "cv2.imshow('Roatated Image',rotated_image)\n",
    "cv2.waitKey()\n",
    "cv2.destroyAllWindows()\n",
    "\n"
   ]
  },
  {
   "cell_type": "markdown",
   "metadata": {},
   "source": [
    "### Black spaces around the image can be fixed simply by:"
   ]
  },
  {
   "cell_type": "code",
   "execution_count": 3,
   "metadata": {},
   "outputs": [],
   "source": [
    "#Other option to rotate\n",
    "img = cv2.imread('images/input.jpg')\n",
    "\n",
    "rotated_image = cv2.transpose(img)\n",
    "\n",
    "cv2.imshow('Roated Image Method 2',rotated_image)\n",
    "cv2.waitKey()\n",
    "cv2.destroyAllWindows()"
   ]
  },
  {
   "cell_type": "markdown",
   "metadata": {},
   "source": [
    "# Scaling , Re-sizing and interpolations"
   ]
  },
  {
   "cell_type": "code",
   "execution_count": 5,
   "metadata": {},
   "outputs": [],
   "source": [
    "import cv2\n",
    "import numpy as np \n",
    "\n",
    "image = cv2.imread('images/input.jpg')\n",
    "\n",
    "#3/4 of original size\n",
    "image_scaled = cv2.resize(image ,None, fx=0.75,fy=0.75)\n",
    "cv2.imshow('Scaling-Linear Interpolation',image_scaled)\n",
    "cv2.waitKey()\n",
    "cv2.destroyAllWindows()\n",
    "\n",
    "#double size of image\n",
    "img_scaled = cv2.resize(image,None, fx=2,fy=2,interpolation=cv2.INTER_CUBIC)\n",
    "cv2.imshow('Scaling-Cubic Interpolation',img_scaled)\n",
    "cv2.waitKey()\n",
    "\n",
    "#Skew resizig by exact dimensions\n",
    "img_scaled = cv2.resize(image,(900,400),interpolation= cv2.INTER_AREA)\n",
    "cv2.imshow('Scaling-Skewed Size',img_scaled)\n",
    "cv2.waitKey()\n",
    "cv2.destroyAllWindows()"
   ]
  },
  {
   "cell_type": "markdown",
   "metadata": {},
   "source": [
    "# Image Pyramids\n",
    "* Upscaling(enlarging) and Downscaling(shrinking)"
   ]
  },
  {
   "cell_type": "code",
   "execution_count": 10,
   "metadata": {},
   "outputs": [],
   "source": [
    "import cv2\n",
    "\n",
    "image = cv2.imread('images/input.jpg')\n",
    "\n",
    "smaller = cv2.pyrDown(image)\n",
    "larger = cv2.pyrUp(smaller)\n",
    "\n",
    "cv2.imshow('Original',image)\n",
    "cv2.imshow('Smaller',smaller)\n",
    "cv2.imshow('Larger',larger)\n",
    "\n",
    "cv2.waitKey()\n",
    "cv2.destroyAllWindows()"
   ]
  },
  {
   "cell_type": "code",
   "execution_count": null,
   "metadata": {},
   "outputs": [],
   "source": []
  }
 ],
 "metadata": {
  "kernelspec": {
   "display_name": "Python 3",
   "language": "python",
   "name": "python3"
  },
  "language_info": {
   "codemirror_mode": {
    "name": "ipython",
    "version": 3
   },
   "file_extension": ".py",
   "mimetype": "text/x-python",
   "name": "python",
   "nbconvert_exporter": "python",
   "pygments_lexer": "ipython3",
   "version": "3.9.2"
  }
 },
 "nbformat": 4,
 "nbformat_minor": 4
}
