{
 "cells": [
  {
   "cell_type": "markdown",
   "metadata": {},
   "source": [
    "# First Code"
   ]
  },
  {
   "cell_type": "code",
   "execution_count": 1,
   "metadata": {},
   "outputs": [],
   "source": [
    "import cv2\n"
   ]
  },
  {
   "cell_type": "code",
   "execution_count": 2,
   "metadata": {},
   "outputs": [],
   "source": [
    "input = cv2.imread('./images/input.jpg')"
   ]
  },
  {
   "cell_type": "code",
   "execution_count": 3,
   "metadata": {},
   "outputs": [],
   "source": [
    "cv2.imshow('Hello WOrld',input)\n",
    "cv2.waitKey()\n",
    "cv2.destroyAllWindows()"
   ]
  },
  {
   "cell_type": "code",
   "execution_count": 4,
   "metadata": {},
   "outputs": [],
   "source": [
    "import numpy"
   ]
  },
  {
   "cell_type": "markdown",
   "metadata": {},
   "source": [
    "# Images in computer"
   ]
  },
  {
   "cell_type": "code",
   "execution_count": 5,
   "metadata": {},
   "outputs": [],
   "source": [
    "import numpy"
   ]
  },
  {
   "cell_type": "code",
   "execution_count": 6,
   "metadata": {},
   "outputs": [
    {
     "name": "stdout",
     "output_type": "stream",
     "text": [
      "(830, 1245, 3)\n"
     ]
    }
   ],
   "source": [
    "print(input.shape)"
   ]
  },
  {
   "cell_type": "code",
   "execution_count": 7,
   "metadata": {},
   "outputs": [
    {
     "name": "stdout",
     "output_type": "stream",
     "text": [
      "Height of image is :  830\n",
      "weight of image is :  1245\n"
     ]
    }
   ],
   "source": [
    "print('Height of image is : ',int(input.shape[0]))\n",
    "print('weight of image is : ',int(input.shape[1]))"
   ]
  },
  {
   "cell_type": "code",
   "execution_count": 8,
   "metadata": {},
   "outputs": [
    {
     "data": {
      "text/plain": [
       "True"
      ]
     },
     "execution_count": 8,
     "metadata": {},
     "output_type": "execute_result"
    }
   ],
   "source": [
    "cv2.imwrite('test.jpg',input)"
   ]
  },
  {
   "cell_type": "markdown",
   "metadata": {},
   "source": [
    "# GrayScaling"
   ]
  },
  {
   "cell_type": "code",
   "execution_count": 1,
   "metadata": {},
   "outputs": [],
   "source": [
    "import cv2\n",
    "image = cv2.imread('./images/input.jpg')\n",
    "cv2.imshow('Original',image)\n",
    "cv2.waitKey()\n",
    "\n",
    "\n",
    "gray_image= cv2.cvtColor(image,cv2.COLOR_BGR2GRAY)\n",
    "cv2.imshow('GrayScale',gray_image)\n",
    "cv2.waitKey()\n",
    "cv2.destroyAllWindows()\n"
   ]
  },
  {
   "cell_type": "markdown",
   "metadata": {},
   "source": [
    "### Another method"
   ]
  },
  {
   "cell_type": "code",
   "execution_count": 3,
   "metadata": {},
   "outputs": [],
   "source": [
    "import cv2\n",
    "image = cv2.imread('./images/input.jpg',0)\n",
    "cv2.imshow('Gray scale',image)\n",
    "cv2.waitKey()\n",
    "cv2.destroyAllWindows()\n"
   ]
  },
  {
   "cell_type": "markdown",
   "metadata": {},
   "source": [
    "### BGR values of image"
   ]
  },
  {
   "cell_type": "code",
   "execution_count": 11,
   "metadata": {},
   "outputs": [
    {
     "name": "stdout",
     "output_type": "stream",
     "text": [
      "(830, 1245, 3)\n",
      "12 18 31\n"
     ]
    }
   ],
   "source": [
    "import cv2\n",
    "image=cv2.imread('./images/input.jpg')\n",
    "B, G, R = image[0,0]\n",
    "print(image.shape)\n",
    "print(B,G,R)"
   ]
  },
  {
   "cell_type": "code",
   "execution_count": 12,
   "metadata": {},
   "outputs": [
    {
     "name": "stdout",
     "output_type": "stream",
     "text": [
      "(830, 1245)\n"
     ]
    },
    {
     "data": {
      "text/plain": [
       "21"
      ]
     },
     "execution_count": 12,
     "metadata": {},
     "output_type": "execute_result"
    }
   ],
   "source": [
    "gray = cv2.imread('./images/input.jpg',0)\n",
    "print(gray.shape)\n",
    "gray[0,0]"
   ]
  },
  {
   "cell_type": "markdown",
   "metadata": {},
   "source": [
    "# HSV\n",
    "* Useful in color filtering"
   ]
  },
  {
   "cell_type": "code",
   "execution_count": 17,
   "metadata": {},
   "outputs": [],
   "source": [
    "image = cv2.imread('./images/input.jpg')\n",
    "hsv_image = cv2.cvtColor(image,cv2.COLOR_BGR2HSV)\n",
    "\n",
    "cv2.imshow('HSV image',hsv_image)\n",
    "cv2.imshow('Hue channel',hsv_image[:,:,0])\n",
    "cv2.imshow('Saturation channel',hsv_image[:,:,1])\n",
    "cv2.imshow('Value channel',hsv_image[:,:,2])\n",
    "\n",
    "cv2.waitKey()\n",
    "cv2.destroyAllWindows()"
   ]
  },
  {
   "cell_type": "markdown",
   "metadata": {},
   "source": [
    "# Individual channels in RGB image"
   ]
  },
  {
   "cell_type": "code",
   "execution_count": 1,
   "metadata": {},
   "outputs": [
    {
     "name": "stdout",
     "output_type": "stream",
     "text": [
      "(830, 1245)\n"
     ]
    }
   ],
   "source": [
    "import cv2\n",
    "image = cv2.imread('./images/input.jpg')\n",
    "\n",
    "#OpenCV's 'split' function splites the image into each color index\n",
    "B, G, R=cv2.split(image)\n",
    "\n",
    "#single channels are seen gray due to 2-dimensions\n",
    "print(B.shape)\n",
    "cv2.imshow('Red',R)\n",
    "cv2.imshow('Green',G)\n",
    "cv2.imshow('Blue',B)\n",
    "cv2.waitKey()\n",
    "cv2.destroyAllWindows()\n",
    "\n",
    "#Lets' re-make the original image\n",
    "merged =cv2.merge([B,G,R])\n",
    "cv2.imshow('Merged',merged)\n",
    "\n",
    "#Amplify \n",
    "merged = cv2.merge([B+100,G,R])\n",
    "cv2.imshow('Merged with Blue amplification',merged)\n",
    "\n",
    "cv2.waitKey()\n",
    "cv2.destroyAllWindows()"
   ]
  },
  {
   "cell_type": "markdown",
   "metadata": {},
   "source": [
    "### Visualizing each channel with help of numpy"
   ]
  },
  {
   "cell_type": "code",
   "execution_count": 15,
   "metadata": {},
   "outputs": [],
   "source": [
    "# RGB written in BGR format in cv2.\n",
    "\n",
    "import numpy as np\n",
    "import cv2\n",
    "\n",
    "image = cv2.imread('./images/input.jpg')\n",
    "B,G,R= cv2.split(image)\n",
    "\n",
    "zeros = np.zeros(image.shape[:2],dtype='uint8')\n",
    "\n",
    "cv2.imshow('Red',cv2.merge([zeros,zeros,R]))\n",
    "cv2.imshow('Green',cv2.merge([zeros,G,zeros]))\n",
    "cv2.imshow('Blue',cv2.merge([B,zeros,zeros]))\n",
    "\n",
    "cv2.waitKey()\n",
    "cv2.destroyAllWindows()"
   ]
  },
  {
   "cell_type": "code",
   "execution_count": 17,
   "metadata": {},
   "outputs": [
    {
     "data": {
      "text/plain": [
       "(830, 1245)"
      ]
     },
     "execution_count": 17,
     "metadata": {},
     "output_type": "execute_result"
    }
   ],
   "source": [
    "image.shape[:2]"
   ]
  },
  {
   "cell_type": "markdown",
   "metadata": {},
   "source": [
    "# Histograms \n",
    "* visualize individual color componets"
   ]
  },
  {
   "cell_type": "code",
   "execution_count": 24,
   "metadata": {},
   "outputs": [
    {
     "data": {
      "image/png": "[encoded data removed]",
      "text/plain": [
       "<Figure size 432x288 with 1 Axes>"
      ]
     },
     "metadata": {
      "needs_background": "light"
     },
     "output_type": "display_data"
    },
    {
     "data": {
      "image/png": "[encoded data removed]",
      "text/plain": [
       "<Figure size 432x288 with 1 Axes>"
      ]
     },
     "metadata": {
      "needs_background": "light"
     },
     "output_type": "display_data"
    }
   ],
   "source": [
    "import cv2\n",
    "import numpy as np\n",
    "\n",
    "import matplotlib.pyplot as plt\n",
    "\n",
    "image=cv2.imread('./images/input.jpg')\n",
    "\n",
    "histogram= cv2.calcHist([image],[0],None,[256],[0,256])\n",
    "plt.hist(image.ravel(),256,[0,256]);\n",
    "plt.show();\n",
    "\n",
    "\n",
    "#viewing the color channels\n",
    "color = ('b','g','r')\n",
    "for i,col in enumerate(color):\n",
    "    histogram2=cv2.calcHist([image],[i],None,[256],[0,256])\n",
    "    plt.plot(histogram2,color=col)\n",
    "    plt.xlim([0,256])\n",
    "\n",
    "plt.show()\n"
   ]
  },
  {
   "cell_type": "markdown",
   "metadata": {},
   "source": [
    "# Drawing images and shapes"
   ]
  },
  {
   "cell_type": "code",
   "execution_count": 1,
   "metadata": {},
   "outputs": [],
   "source": [
    "# Blank Sqaure\n",
    "import cv2\n",
    "import numpy as np\n",
    "\n",
    "image = np.zeros((512,512,3),np.uint8)\n",
    "\n",
    "image_bw=np.zeros((512,512),np.uint8)\n",
    "\n",
    "cv2.imshow('Black Rectangle (Color)',image)\n",
    "cv2.imshow('Black Rectangle (B&W)',image_bw)\n",
    "cv2.waitKey()\n",
    "cv2.destroyAllWindows()"
   ]
  },
  {
   "cell_type": "code",
   "execution_count": 4,
   "metadata": {},
   "outputs": [],
   "source": [
    "#draw line over blank square\n",
    "image = np.zeros((512,512,3),np.uint8)\n",
    "cv2.line(image,(0,0),(511,511),(255,127,0),5) #thickness of 5 pixels\n",
    "cv2.imshow(\"Blue line\",image)\n",
    "cv2.waitKey()\n",
    "cv2.destroyAllWindows()"
   ]
  },
  {
   "cell_type": "code",
   "execution_count": 13,
   "metadata": {},
   "outputs": [],
   "source": [
    "#Rectangle\n",
    "\n",
    "import numpy as np\n",
    "import cv2 \n",
    "\n",
    "image = np.zeros((512,512,3),np.uint8)\n",
    "cv2.rectangle(image,(100,100),(300,250),(127,50,127),-5)\n",
    "cv2.imshow('Rectangle',image)\n",
    "\n",
    "cv2.waitKey()\n",
    "cv2.destroyAllWindows()"
   ]
  },
  {
   "cell_type": "code",
   "execution_count": 3,
   "metadata": {},
   "outputs": [],
   "source": [
    "# Circle\n",
    "\n",
    "import numpy as np\n",
    "import cv2\n",
    "\n",
    "image=np.zeros((512,512,3),np.uint8)\n",
    "\n",
    "cv2.circle(image,(250,250),100,(14,75,50),-1)\n",
    "cv2.imshow('Circle',image)\n",
    "\n",
    "cv2.waitKey()\n",
    "cv2.destroyAllWindows()"
   ]
  },
  {
   "cell_type": "code",
   "execution_count": 6,
   "metadata": {},
   "outputs": [],
   "source": [
    "# Polygons\n",
    "\n",
    "image = np.zeros((512,512,3),np.uint8)\n",
    "\n",
    "pts =np.array([[10,50],[400,50],[90,200],[50,500]],np.int32)\n",
    "\n",
    "pts = pts.reshape((-1,1,2))\n",
    "\n",
    "cv2.polylines(image,[pts],True,(0,0,255),3)\n",
    "cv2.imshow(\"Polygon\",image)\n",
    "cv2.waitKey()\n",
    "cv2.destroyAllWindows()"
   ]
  },
  {
   "cell_type": "markdown",
   "metadata": {},
   "source": [
    "## Add text "
   ]
  },
  {
   "cell_type": "code",
   "execution_count": null,
   "metadata": {},
   "outputs": [],
   "source": [
    "image = np.zeros((512,512,3),np.uint8)\n",
    "\n",
    "cv2.putText(image,'Hello WOrld!',(75,290),cv2.FONT_HERSHEY_COMPLEX,2,(100,170,0),3)\n",
    "cv2.imshow('Hello WOrld',image)\n",
    "\n",
    "cv2.waitKey(0)\n",
    "cv2.destroyAllWindows()"
   ]
  },
  {
   "cell_type": "code",
   "execution_count": null,
   "metadata": {},
   "outputs": [],
   "source": []
  }
 ],
 "metadata": {
  "kernelspec": {
   "display_name": "Python 3",
   "language": "python",
   "name": "python3"
  }
 },
 "nbformat": 4,
 "nbformat_minor": 4
}
